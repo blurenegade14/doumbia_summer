{
 "cells": [
  {
   "cell_type": "code",
   "execution_count": 1,
   "id": "0f913807",
   "metadata": {},
   "outputs": [
    {
     "name": "stdout",
     "output_type": "stream",
     "text": [
      "Python is cool\n"
     ]
    }
   ],
   "source": [
    "print('Python is cool')"
   ]
  },
  {
   "cell_type": "markdown",
   "id": "b858ad56",
   "metadata": {},
   "source": [
    "# day 3\n",
    "\n",
    "* data types\n",
    "    * numbers\n",
    "    * strings\n",
    "    * variable assignemtn\n",
    "    * printing\n",
    "    * strings methods\n",
    "    * lists\n",
    "    * dictionaries\n",
    "    * boolians\n",
    "    * tuples\n",
    "    * sets\n",
    "* basic operations\n",
    "    * comparison\n",
    "    * if elseif, else statements\n",
    "    * for loops\n",
    "    * while loops\n",
    "    * range()\n",
    "    * linspace()\n",
    "    * list comprehension\n",
    "    * functions\n",
    "    * lambda expressions\n",
    "    * map & filter"
   ]
  },
  {
   "cell_type": "markdown",
   "id": "fd9eb38c",
   "metadata": {},
   "source": [
    "## numbers"
   ]
  },
  {
   "cell_type": "code",
   "execution_count": 2,
   "id": "7db0f74b",
   "metadata": {},
   "outputs": [
    {
     "name": "stdout",
     "output_type": "stream",
     "text": [
      "4\n"
     ]
    },
    {
     "data": {
      "text/plain": [
       "18"
      ]
     },
     "execution_count": 2,
     "metadata": {},
     "output_type": "execute_result"
    }
   ],
   "source": [
    "print(1+3)\n",
    "\n",
    "\n",
    "(1+5)*(5-2)\n"
   ]
  },
  {
   "cell_type": "code",
   "execution_count": 3,
   "id": "f5e0cdca",
   "metadata": {},
   "outputs": [
    {
     "data": {
      "text/plain": [
       "9.0"
      ]
     },
     "execution_count": 3,
     "metadata": {},
     "output_type": "execute_result"
    }
   ],
   "source": [
    "3**2.0"
   ]
  },
  {
   "cell_type": "markdown",
   "id": "d4cf7369",
   "metadata": {},
   "source": [
    "this $\\%$ will returne the remainder of the operation"
   ]
  },
  {
   "cell_type": "code",
   "execution_count": 4,
   "id": "1faaeb87",
   "metadata": {},
   "outputs": [
    {
     "data": {
      "text/plain": [
       "1"
      ]
     },
     "execution_count": 4,
     "metadata": {},
     "output_type": "execute_result"
    }
   ],
   "source": [
    "13%3"
   ]
  },
  {
   "cell_type": "code",
   "execution_count": 5,
   "id": "1177f47e",
   "metadata": {},
   "outputs": [
    {
     "data": {
      "text/plain": [
       "3"
      ]
     },
     "execution_count": 5,
     "metadata": {},
     "output_type": "execute_result"
    }
   ],
   "source": [
    "# this will return an integer as the quotient\n",
    "15//4"
   ]
  },
  {
   "cell_type": "code",
   "execution_count": 6,
   "id": "f99641b2",
   "metadata": {},
   "outputs": [
    {
     "data": {
      "text/plain": [
       "float"
      ]
     },
     "execution_count": 6,
     "metadata": {},
     "output_type": "execute_result"
    }
   ],
   "source": [
    "type(2.3248749357168457)"
   ]
  },
  {
   "cell_type": "code",
   "execution_count": 7,
   "id": "c47952b7",
   "metadata": {},
   "outputs": [
    {
     "name": "stdout",
     "output_type": "stream",
     "text": [
      "1.4142135623730951\n"
     ]
    }
   ],
   "source": [
    "print((2)**.5)"
   ]
  },
  {
   "cell_type": "code",
   "execution_count": 8,
   "id": "ebdeeab3",
   "metadata": {},
   "outputs": [
    {
     "name": "stdout",
     "output_type": "stream",
     "text": [
      "4.0\n"
     ]
    }
   ],
   "source": [
    "print((16)**(1/2))"
   ]
  },
  {
   "cell_type": "code",
   "execution_count": 9,
   "id": "da58999a",
   "metadata": {},
   "outputs": [
    {
     "name": "stdout",
     "output_type": "stream",
     "text": [
      "i am a string in a single quotation\n",
      "i'm a string in a double quotation\n"
     ]
    }
   ],
   "source": [
    "# strings are sequences of characters using double or single quotes\n",
    "print('i am a string in a single quotation')\n",
    "print(\"i'm a string in a double quotation\")"
   ]
  },
  {
   "cell_type": "markdown",
   "id": "e2e7aa43",
   "metadata": {},
   "source": [
    "# variable assignment\n",
    "\n",
    "### variable names must be written on the left of the equal sign.\n",
    "### variables can only start with a letter"
   ]
  },
  {
   "cell_type": "code",
   "execution_count": 12,
   "id": "00b3e98f",
   "metadata": {},
   "outputs": [
    {
     "data": {
      "text/plain": [
       "10"
      ]
     },
     "execution_count": 12,
     "metadata": {},
     "output_type": "execute_result"
    }
   ],
   "source": [
    "x=10\n",
    "x"
   ]
  },
  {
   "cell_type": "code",
   "execution_count": 14,
   "id": "5a8e47ef",
   "metadata": {},
   "outputs": [
    {
     "name": "stdout",
     "output_type": "stream",
     "text": [
      "hello destin welcome to reu!\n"
     ]
    }
   ],
   "source": [
    "name = 'destin'\n",
    "print('hello', name, 'welcome to reu!')"
   ]
  },
  {
   "cell_type": "code",
   "execution_count": 17,
   "id": "03a7858a",
   "metadata": {},
   "outputs": [
    {
     "name": "stdout",
     "output_type": "stream",
     "text": [
      "hello destin welcome to reu!\n"
     ]
    }
   ],
   "source": [
    "name = 'destin'\n",
    "print('hello '+ name+ ' welcome to reu!')"
   ]
  },
  {
   "cell_type": "code",
   "execution_count": 20,
   "id": "1ad5cd63",
   "metadata": {},
   "outputs": [
    {
     "name": "stdout",
     "output_type": "stream",
     "text": [
      "hello hu! my first name is destin and my last name is davis\n"
     ]
    }
   ],
   "source": [
    "first_name = 'destin'\n",
    "last_name = 'davis'\n",
    "print('hello hu! my first name is {one} and my last name is {two}'.format(one=first_name, two=last_name))"
   ]
  },
  {
   "cell_type": "code",
   "execution_count": 22,
   "id": "83a09ad8",
   "metadata": {},
   "outputs": [
    {
     "name": "stdout",
     "output_type": "stream",
     "text": [
      "hello hu! my first name is destin and my last name is davis\n"
     ]
    }
   ],
   "source": [
    "first_name = 'destin'\n",
    "last_name = 'davis'\n",
    "print('hello hu! my first name is {} and my last name is {}'. format(first_name, last_name))"
   ]
  },
  {
   "cell_type": "code",
   "execution_count": null,
   "id": "d2cc79ea",
   "metadata": {},
   "outputs": [],
   "source": []
  }
 ],
 "metadata": {
  "kernelspec": {
   "display_name": "Python 3 (ipykernel)",
   "language": "python",
   "name": "python3"
  },
  "language_info": {
   "codemirror_mode": {
    "name": "ipython",
    "version": 3
   },
   "file_extension": ".py",
   "mimetype": "text/x-python",
   "name": "python",
   "nbconvert_exporter": "python",
   "pygments_lexer": "ipython3",
   "version": "3.9.12"
  }
 },
 "nbformat": 4,
 "nbformat_minor": 5
}
