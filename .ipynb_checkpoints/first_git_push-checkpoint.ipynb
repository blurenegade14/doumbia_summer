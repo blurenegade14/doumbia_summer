{
 "cells": [
  {
   "cell_type": "code",
   "execution_count": 1,
   "id": "0f913807",
   "metadata": {},
   "outputs": [
    {
     "name": "stdout",
     "output_type": "stream",
     "text": [
      "Python is cool\n"
     ]
    }
   ],
   "source": [
    "print('Python is cool')"
   ]
  },
  {
   "cell_type": "markdown",
   "id": "b858ad56",
   "metadata": {},
   "source": [
    "# day 3\n",
    "\n",
    "* data types\n",
    "    * numbers\n",
    "    * strings\n",
    "    * variable assignments\n",
    "    * printing\n",
    "    * strings methods\n",
    "    * lists\n",
    "    * dictionaries\n",
    "    * boolians\n",
    "    * tuples\n",
    "    * sets\n",
    "* basic operations\n",
    "    * comparison\n",
    "    * if elseif, else statements\n",
    "    * for loops\n",
    "    * while loops\n",
    "    * range()\n",
    "    * linspace()\n",
    "    * list comprehension\n",
    "    * functions\n",
    "    * lambda expressions\n",
    "    * map & filter"
   ]
  },
  {
   "cell_type": "markdown",
   "id": "fd9eb38c",
   "metadata": {},
   "source": [
    "## numbers"
   ]
  },
  {
   "cell_type": "code",
   "execution_count": 2,
   "id": "7db0f74b",
   "metadata": {},
   "outputs": [
    {
     "name": "stdout",
     "output_type": "stream",
     "text": [
      "4\n"
     ]
    },
    {
     "data": {
      "text/plain": [
       "18"
      ]
     },
     "execution_count": 2,
     "metadata": {},
     "output_type": "execute_result"
    }
   ],
   "source": [
    "print(1+3)\n",
    "\n",
    "\n",
    "(1+5)*(5-2)\n"
   ]
  },
  {
   "cell_type": "code",
   "execution_count": 3,
   "id": "f5e0cdca",
   "metadata": {},
   "outputs": [
    {
     "data": {
      "text/plain": [
       "9.0"
      ]
     },
     "execution_count": 3,
     "metadata": {},
     "output_type": "execute_result"
    }
   ],
   "source": [
    "3**2.0"
   ]
  },
  {
   "cell_type": "markdown",
   "id": "d4cf7369",
   "metadata": {},
   "source": [
    "this $\\%$ will returne the remainder of the operation"
   ]
  },
  {
   "cell_type": "code",
   "execution_count": 4,
   "id": "1faaeb87",
   "metadata": {},
   "outputs": [
    {
     "data": {
      "text/plain": [
       "1"
      ]
     },
     "execution_count": 4,
     "metadata": {},
     "output_type": "execute_result"
    }
   ],
   "source": [
    "13%3"
   ]
  },
  {
   "cell_type": "code",
   "execution_count": 5,
   "id": "1177f47e",
   "metadata": {},
   "outputs": [
    {
     "data": {
      "text/plain": [
       "3"
      ]
     },
     "execution_count": 5,
     "metadata": {},
     "output_type": "execute_result"
    }
   ],
   "source": [
    "# this will return an integer as the quotient\n",
    "15//4"
   ]
  },
  {
   "cell_type": "code",
   "execution_count": 6,
   "id": "f99641b2",
   "metadata": {},
   "outputs": [
    {
     "data": {
      "text/plain": [
       "float"
      ]
     },
     "execution_count": 6,
     "metadata": {},
     "output_type": "execute_result"
    }
   ],
   "source": [
    "type(2.3248749357168457)"
   ]
  },
  {
   "cell_type": "code",
   "execution_count": 7,
   "id": "c47952b7",
   "metadata": {},
   "outputs": [
    {
     "name": "stdout",
     "output_type": "stream",
     "text": [
      "1.4142135623730951\n"
     ]
    }
   ],
   "source": [
    "print((2)**.5)"
   ]
  },
  {
   "cell_type": "code",
   "execution_count": 8,
   "id": "ebdeeab3",
   "metadata": {},
   "outputs": [
    {
     "name": "stdout",
     "output_type": "stream",
     "text": [
      "4.0\n"
     ]
    }
   ],
   "source": [
    "print((16)**(1/2))"
   ]
  },
  {
   "cell_type": "markdown",
   "id": "19e621cd",
   "metadata": {},
   "source": [
    "# strings"
   ]
  },
  {
   "cell_type": "code",
   "execution_count": 9,
   "id": "da58999a",
   "metadata": {},
   "outputs": [
    {
     "name": "stdout",
     "output_type": "stream",
     "text": [
      "i am a string in a single quotation\n",
      "i'm a string in a double quotation\n"
     ]
    }
   ],
   "source": [
    "# strings are sequences of characters using double or single quotes\n",
    "print('i am a string in a single quotation')\n",
    "print(\"i'm a string in a double quotation\")"
   ]
  },
  {
   "cell_type": "markdown",
   "id": "965b3bd7",
   "metadata": {},
   "source": [
    "# variable assignment\n",
    "\n",
    "### variable names must be written on the left of the equal sign.\n",
    "### variables can only start with a letter"
   ]
  },
  {
   "cell_type": "code",
   "execution_count": 10,
   "id": "ed4c4b6c",
   "metadata": {},
   "outputs": [
    {
     "data": {
      "text/plain": [
       "10"
      ]
     },
     "execution_count": 10,
     "metadata": {},
     "output_type": "execute_result"
    }
   ],
   "source": [
    "x=10\n",
    "x"
   ]
  },
  {
   "cell_type": "code",
   "execution_count": 11,
   "id": "7e8c8a1f",
   "metadata": {},
   "outputs": [
    {
     "name": "stdout",
     "output_type": "stream",
     "text": [
      "hello destin welcome to reu!\n"
     ]
    }
   ],
   "source": [
    "name = 'destin'\n",
    "print('hello', name, 'welcome to reu!')"
   ]
  },
  {
   "cell_type": "code",
   "execution_count": 12,
   "id": "e2be0cbe",
   "metadata": {},
   "outputs": [
    {
     "name": "stdout",
     "output_type": "stream",
     "text": [
      "hello destin welcome to reu!\n"
     ]
    }
   ],
   "source": [
    "name = 'destin'\n",
    "print('hello '+ name+ ' welcome to reu!')"
   ]
  },
  {
   "cell_type": "code",
   "execution_count": 13,
   "id": "cd81fcbc",
   "metadata": {},
   "outputs": [
    {
     "name": "stdout",
     "output_type": "stream",
     "text": [
      "hello hu! my first name is destin and my last name is davis\n"
     ]
    }
   ],
   "source": [
    "first_name = 'destin'\n",
    "last_name = 'davis'\n",
    "print('hello hu! my first name is {one} and my last name is {two}'.format(one=first_name, two=last_name))"
   ]
  },
  {
   "cell_type": "code",
   "execution_count": 14,
   "id": "c118cd61",
   "metadata": {},
   "outputs": [
    {
     "name": "stdout",
     "output_type": "stream",
     "text": [
      "hello hu! my first name is destin and my last name is davis\n"
     ]
    }
   ],
   "source": [
    "first_name = 'destin'\n",
    "last_name = 'davis'\n",
    "print('hello hu! my first name is {} and my last name is {}'. format(first_name, last_name))"
   ]
  },
  {
   "cell_type": "markdown",
   "id": "8209328a",
   "metadata": {},
   "source": [
    "# string methods"
   ]
  },
  {
   "cell_type": "code",
   "execution_count": 15,
   "id": "5c8084e2",
   "metadata": {},
   "outputs": [
    {
     "name": "stdout",
     "output_type": "stream",
     "text": [
      "Destin\n",
      "Howard University\n",
      "DESTIN\n",
      "howard university\n"
     ]
    }
   ],
   "source": [
    "name = 'destin'\n",
    "school = 'HOWARD UNIVERSITY'\n",
    "# title method (first letter will be capitalized)\n",
    "print(name.title())\n",
    "\n",
    "print(school.title())\n",
    "\n",
    "# upper method (everything will be capitalized)\n",
    "print(name.upper())\n",
    "\n",
    "# lower method (everything will be lowercase)\n",
    "print(school.lower())"
   ]
  },
  {
   "cell_type": "code",
   "execution_count": 16,
   "id": "b5927755",
   "metadata": {},
   "outputs": [
    {
     "name": "stdout",
     "output_type": "stream",
     "text": [
      "['HOWARD', 'UNIVERSITY']\n",
      "['h', 'e', 'l', 'l', 'o']\n"
     ]
    }
   ],
   "source": [
    "# split method\n",
    "print(school.split())\n",
    "\n",
    "a_string = 'h+e+l+l+o'\n",
    "print(a_string.split('+'))"
   ]
  },
  {
   "cell_type": "code",
   "execution_count": 17,
   "id": "9e6bf349",
   "metadata": {},
   "outputs": [
    {
     "name": "stdout",
     "output_type": "stream",
     "text": [
      "3\n"
     ]
    }
   ],
   "source": [
    "# count method\n",
    "activity = 'i am learning python'\n",
    "print(activity.count('n'))"
   ]
  },
  {
   "cell_type": "code",
   "execution_count": 18,
   "id": "b7da50aa",
   "metadata": {},
   "outputs": [
    {
     "name": "stdout",
     "output_type": "stream",
     "text": [
      "                                           i am learning python                                          \n"
     ]
    }
   ],
   "source": [
    "# center method\n",
    "print(activity.center(105))"
   ]
  },
  {
   "cell_type": "code",
   "execution_count": 19,
   "id": "f074c001",
   "metadata": {},
   "outputs": [
    {
     "name": "stdout",
     "output_type": "stream",
     "text": [
      "True\n",
      "False\n"
     ]
    }
   ],
   "source": [
    "# see if a string is numeric or not\n",
    "num_str = '12345'\n",
    "print(num_str.isnumeric())\n",
    "\n",
    "num_str = '12345'\n",
    "print(school.isnumeric())"
   ]
  },
  {
   "cell_type": "code",
   "execution_count": 20,
   "id": "5dfcb9d4",
   "metadata": {},
   "outputs": [
    {
     "name": "stdout",
     "output_type": "stream",
     "text": [
      "___abc____\n",
      "10\n",
      "abc____\n",
      "___abc\n"
     ]
    }
   ],
   "source": [
    "letters = '___abc____'\n",
    "print(letters)\n",
    "print(len(letters)) # this will return the length of the string\n",
    "\n",
    "# strip method\n",
    "stripped = letters.lstrip('_')\n",
    "print(stripped)\n",
    "right_stripped = letters.rstrip('_')\n",
    "print(right_stripped)"
   ]
  },
  {
   "cell_type": "markdown",
   "id": "a54e87be",
   "metadata": {},
   "source": [
    "# lists"
   ]
  },
  {
   "cell_type": "code",
   "execution_count": 21,
   "id": "4c5717f6",
   "metadata": {},
   "outputs": [
    {
     "name": "stdout",
     "output_type": "stream",
     "text": [
      "fruit\n",
      "['fruit', 'vegetable', 'seafood']\n",
      "['vegetable', 'seafood', 'meat lover']\n",
      "['babies', 'vegetable', 'seafood', 'meat lover']\n",
      "['meat lover', 'seafood', 'vegetable', 'babies']\n",
      "YTISREVINU DRAWOH\n"
     ]
    },
    {
     "data": {
      "text/plain": [
       "['babies', 'vegetable', 'seafood', 'meat lover', 'PEOPLE']"
      ]
     },
     "execution_count": 21,
     "metadata": {},
     "output_type": "execute_result"
    }
   ],
   "source": [
    "# lists are used to store multiple variables into a single variable matrix or column\n",
    "a_list = ['fruit', 'vegetable', 'seafood', 'meat lover']\n",
    "\n",
    "print(a_list[0])\n",
    "print(a_list[0:3]) # note that the index 3 is excluded\n",
    "print(a_list[1:4])\n",
    "a_list[0] = 'babies'\n",
    "print(a_list)\n",
    "print(a_list[::-1]) # this reverses the order of the list\n",
    "                    # (when used with strings it reverses the order of the characters in the string)\n",
    "print(school[::-1])\n",
    "\n",
    "a_list.insert(5,'PEOPLE')\n",
    "a_list"
   ]
  },
  {
   "cell_type": "code",
   "execution_count": 22,
   "id": "d6549653",
   "metadata": {},
   "outputs": [
    {
     "data": {
      "text/plain": [
       "['babies', 'seafood', 'meat lover', 'PEOPLE']"
      ]
     },
     "execution_count": 22,
     "metadata": {},
     "output_type": "execute_result"
    }
   ],
   "source": [
    "# popping out specific items from the list\n",
    "a_list.pop(1)\n",
    "a_list"
   ]
  },
  {
   "cell_type": "code",
   "execution_count": 23,
   "id": "74669510",
   "metadata": {},
   "outputs": [
    {
     "data": {
      "text/plain": [
       "['seafood', 'meat lover']"
      ]
     },
     "execution_count": 23,
     "metadata": {},
     "output_type": "execute_result"
    }
   ],
   "source": [
    "# removing items\n",
    "a_list.remove('babies'), a_list.remove('PEOPLE')\n",
    "a_list"
   ]
  },
  {
   "cell_type": "code",
   "execution_count": 24,
   "id": "0cf104d6",
   "metadata": {},
   "outputs": [
    {
     "data": {
      "text/plain": [
       "['seafood', 'meat lover', 'a', 'b', 'c', 'd']"
      ]
     },
     "execution_count": 24,
     "metadata": {},
     "output_type": "execute_result"
    }
   ],
   "source": [
    "b_list = ['a','b','c','d']\n",
    "a_list+b_list"
   ]
  },
  {
   "cell_type": "markdown",
   "id": "a2350558",
   "metadata": {},
   "source": [
    "# dictionary\n",
    "## dictionaries are used to store data in key:value pairs"
   ]
  },
  {
   "cell_type": "code",
   "execution_count": 25,
   "id": "3781d5ab",
   "metadata": {},
   "outputs": [
    {
     "data": {
      "text/plain": [
       "{'brand': 'Ford',\n",
       " 'model': 'Mustang',\n",
       " 'year': 1967,\n",
       " 'milage': 200000,\n",
       " 'color': 'green',\n",
       " 'cylinder': '6'}"
      ]
     },
     "execution_count": 25,
     "metadata": {},
     "output_type": "execute_result"
    }
   ],
   "source": [
    "thisdict = {\n",
    "    'brand':'Ford',\n",
    "    'model':'Mustang',\n",
    "    'year': 1967,\n",
    "    'milage':200000,\n",
    "    'color':'green',\n",
    "    'cylinder':'6'\n",
    "}\n",
    "\n",
    "thisdict\n"
   ]
  },
  {
   "cell_type": "code",
   "execution_count": 26,
   "id": "3e2ca708",
   "metadata": {},
   "outputs": [
    {
     "data": {
      "text/plain": [
       "'Mustang'"
      ]
     },
     "execution_count": 26,
     "metadata": {},
     "output_type": "execute_result"
    }
   ],
   "source": [
    "thisdict['model']"
   ]
  },
  {
   "cell_type": "code",
   "execution_count": 27,
   "id": "7a668e8f",
   "metadata": {},
   "outputs": [
    {
     "data": {
      "text/plain": [
       "dict_items([('brand', 'Ford'), ('model', 'Mustang'), ('year', 1967), ('milage', 200000), ('color', 'green'), ('cylinder', '6')])"
      ]
     },
     "execution_count": 27,
     "metadata": {},
     "output_type": "execute_result"
    }
   ],
   "source": [
    "thisdict.items()"
   ]
  },
  {
   "cell_type": "code",
   "execution_count": 28,
   "id": "4b5e2b6b",
   "metadata": {},
   "outputs": [
    {
     "data": {
      "text/plain": [
       "dict_keys(['brand', 'model', 'year', 'milage', 'color', 'cylinder'])"
      ]
     },
     "execution_count": 28,
     "metadata": {},
     "output_type": "execute_result"
    }
   ],
   "source": [
    "thisdict.keys()"
   ]
  },
  {
   "cell_type": "code",
   "execution_count": 29,
   "id": "8faeb0ea",
   "metadata": {},
   "outputs": [
    {
     "data": {
      "text/plain": [
       "dict_values(['Ford', 'Mustang', 1967, 200000, 'green', '6'])"
      ]
     },
     "execution_count": 29,
     "metadata": {},
     "output_type": "execute_result"
    }
   ],
   "source": [
    "thisdict.values()"
   ]
  },
  {
   "cell_type": "code",
   "execution_count": null,
   "id": "317a99ed",
   "metadata": {},
   "outputs": [],
   "source": []
  }
 ],
 "metadata": {
  "kernelspec": {
   "display_name": "Python 3 (ipykernel)",
   "language": "python",
   "name": "python3"
  },
  "language_info": {
   "codemirror_mode": {
    "name": "ipython",
    "version": 3
   },
   "file_extension": ".py",
   "mimetype": "text/x-python",
   "name": "python",
   "nbconvert_exporter": "python",
   "pygments_lexer": "ipython3",
   "version": "3.9.12"
  }
 },
 "nbformat": 4,
 "nbformat_minor": 5
}
